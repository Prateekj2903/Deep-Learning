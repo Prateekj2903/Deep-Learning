{
 "cells": [
  {
   "cell_type": "code",
   "execution_count": 1,
   "metadata": {},
   "outputs": [],
   "source": [
    "import numpy as np"
   ]
  },
  {
   "cell_type": "code",
   "execution_count": 5,
   "metadata": {},
   "outputs": [],
   "source": [
    "def initialize_params(dimensions):\n",
    "    \n",
    "    parameters = dict()\n",
    "    \n",
    "    for i in range(1, len(dimensions)):\n",
    "        parameters[\"W\"+str(i)] = np.random.randn(dimensions[i], dimensions[i-1]) * 0.01\n",
    "        parameters[\"b\"+str(i)] = np.zeros((dimensions[i], 1))\n",
    "    \n",
    "    return parameters"
   ]
  },
  {
   "cell_type": "code",
   "execution_count": 6,
   "metadata": {
    "collapsed": true
   },
   "outputs": [
    {
     "name": "stdout",
     "output_type": "stream",
     "text": [
      "{'W1': array([[-0.30973412, -0.41944514,  0.27516686,  1.05675313],\n",
      "       [-1.22598812,  0.30653189, -0.62169419,  0.88698853],\n",
      "       [-1.95463266, -0.40737625,  1.33604203, -0.12435826],\n",
      "       [-1.55602302, -0.42086504, -1.1119003 , -1.73394389],\n",
      "       [-0.95666562,  0.28567931, -0.55731953,  0.35714735],\n",
      "       [ 1.38909714, -0.20420179,  0.14837665, -1.30697474],\n",
      "       [-0.45353906, -0.52658264, -0.73650632, -0.39726784],\n",
      "       [ 0.57264296, -0.57144762,  0.09953035,  0.75342218],\n",
      "       [-0.13868832, -0.07349183,  1.89818268,  0.87977535],\n",
      "       [-0.27659495, -0.49225184, -0.60775574, -0.62072667]]), 'b1': array([[0.],\n",
      "       [0.],\n",
      "       [0.],\n",
      "       [0.],\n",
      "       [0.],\n",
      "       [0.],\n",
      "       [0.],\n",
      "       [0.],\n",
      "       [0.],\n",
      "       [0.]]), 'W2': array([[-1.23229028, -0.71065805,  0.39320312,  0.47882018, -2.06741748,\n",
      "         0.77450411, -0.46446971, -0.83014464,  0.38726214,  0.34305973],\n",
      "       [ 0.69525392, -0.46131151,  0.39236465, -0.59573155, -0.05322578,\n",
      "        -0.17191838, -1.46515197, -1.63304947, -0.85587345,  0.42495486],\n",
      "       [ 0.4773166 ,  0.28807703, -0.11702752, -0.45019334, -1.91315739,\n",
      "        -1.04016369, -1.91447501,  1.24074609,  1.07269664,  1.08105917],\n",
      "       [-0.62477717, -1.50865088, -0.37379566,  1.12740347,  1.21353272,\n",
      "         2.03689359,  0.59609985, -0.98328444, -0.01434988, -0.7015132 ],\n",
      "       [-0.08834443, -1.36319343,  1.18162338,  0.38567226,  1.34125766,\n",
      "        -1.14006234,  0.57743853,  0.37520688, -1.12189368,  0.55675321],\n",
      "       [-0.69725063, -2.19854314,  0.12120295, -0.60662489,  1.92633735,\n",
      "         0.33830262, -2.6732425 , -0.35072793, -0.56690896,  0.83625787],\n",
      "       [-0.99775299,  0.05863964,  0.61915225,  1.23542077,  0.58286399,\n",
      "        -0.65907102, -0.04927438, -1.66941015,  0.34860888,  0.39897226],\n",
      "       [-0.51602511,  1.24161122, -0.49465045, -1.26768006,  0.24569081,\n",
      "        -1.6138122 ,  0.42450666,  0.92441672,  0.87580329, -0.13709389],\n",
      "       [ 0.60203198, -0.37587937, -0.21825791, -0.26462487,  0.08978567,\n",
      "         0.43213369,  1.80140842, -0.60680295, -0.54824484,  1.75712827],\n",
      "       [-0.83794313,  1.23847833, -1.06852458, -0.17698821, -0.1796113 ,\n",
      "        -0.47773508,  0.75418164, -2.54762972,  0.07413187,  0.44925625]]), 'b2': array([[0.],\n",
      "       [0.],\n",
      "       [0.],\n",
      "       [0.],\n",
      "       [0.],\n",
      "       [0.],\n",
      "       [0.],\n",
      "       [0.],\n",
      "       [0.],\n",
      "       [0.]]), 'W3': array([[ 1.87964098,  0.06562199, -1.22010365,  0.51669748, -1.71621916,\n",
      "         0.52250733,  0.1441905 ,  0.58294738, -1.63951555,  0.91589049]]), 'b3': array([[0.]])}\n"
     ]
    }
   ],
   "source": [
    "dims = [4,10,10,1]\n",
    "params = initialize_params(dims)\n",
    "print(params)"
   ]
  },
  {
   "cell_type": "code",
   "execution_count": null,
   "metadata": {},
   "outputs": [],
   "source": []
  },
  {
   "cell_type": "code",
   "execution_count": 12,
   "metadata": {},
   "outputs": [],
   "source": [
    "def relu(Z):\n",
    "    A = np.max(0, Z)\n",
    "    return A, Z\n",
    "\n",
    "def sigmoid(Z):\n",
    "    A = 1 / 1 + np.exp(-Z)\n",
    "    return A, Z\n",
    "\n",
    "def linear_forward(Aprev, W, b):\n",
    "    Z = np.dot(W, Aprev) + b\n",
    "    linear_cache = (Aprev, W, b)\n",
    "    \n",
    "    return Z, linear_cache\n",
    "\n",
    "def linear_activation_forward(Aprev, W, b, activation):\n",
    "    \n",
    "    Z, linear_cache = forward_prop(Aprev, W, b)\n",
    "    \n",
    "    if activation == 'relu':\n",
    "        A, activation_cache = relu(Z)\n",
    "        \n",
    "    elif activation == 'sigmoid':\n",
    "        A, activation_cache = relu(Z)\n",
    "    \n",
    "    cache = (linear_cache, activation_cache)\n",
    "    \n",
    "    return A, cache"
   ]
  },
  {
   "cell_type": "code",
   "execution_count": 10,
   "metadata": {},
   "outputs": [],
   "source": [
    "def L_model_forward(X, parameters):\n",
    "    \n",
    "    caches = []\n",
    "    \n",
    "    A = X\n",
    "    L = len(parameters//2)\n",
    "    for i in range(1, L):\n",
    "        Aprev = A\n",
    "        A, cache = linear_activation_forward(Aprev, parameters[\"W\"+str(i)], parameters[\"b\"+str(i)], \"relu\")\n",
    "        caches.append(cache)\n",
    "        \n",
    "    AL = linear_activation_forward(Aprev, parameters[\"W\"+str(L)], parameters[\"b\"+str(L)], \"sigmoid\")\n",
    "    caches.append(cache)\n",
    "    \n",
    "    return AL, caches"
   ]
  },
  {
   "cell_type": "code",
   "execution_count": 13,
   "metadata": {},
   "outputs": [],
   "source": [
    "def compute_cost(AL, Y):\n",
    "    \n",
    "    m = Y.shape[1]\n",
    "    \n",
    "    cost = -1/m * np.sum(np.product(Y, np.log(AL)) + np.product(1-Y, np.log(1-AL)))\n",
    "    cost = np.squeeze(cost)\n",
    "    \n",
    "    return cost"
   ]
  },
  {
   "cell_type": "code",
   "execution_count": null,
   "metadata": {},
   "outputs": [],
   "source": []
  },
  {
   "cell_type": "code",
   "execution_count": null,
   "metadata": {},
   "outputs": [],
   "source": [
    "\n"
   ]
  },
  {
   "cell_type": "code",
   "execution_count": 23,
   "metadata": {},
   "outputs": [],
   "source": [
    "def relu_backwards(dA, activation_cache):\n",
    "    derivative = [0 if activation_cache<0 else 1]\n",
    "    dZ = np.product(dA, derivative)\n",
    "    \n",
    "def relu_backwards(dA, activation_cache):\n",
    "    sig = sigmoid(Z)[0]\n",
    "    derivative = sig*(1-sig)\n",
    "    dZ = np.product(dA, derivative)"
   ]
  },
  {
   "cell_type": "code",
   "execution_count": 24,
   "metadata": {},
   "outputs": [],
   "source": [
    "def linear_backward(dZ, linear_cache):\n",
    "    A_prev, W, b = linear_cache\n",
    "    \n",
    "    dW = 1/m * np.dot(dZ, A_prev.T)\n",
    "    db = 1/m * np.sum(dZ, axis=1, keepdims=True)\n",
    "    dA_prev = np.dot(W.T, dZ)\n",
    "    \n",
    "    return dA_prev, dW, db\n",
    "    \n",
    "    \n",
    "def linear_activation_backward(dA, cache, activation):\n",
    "    linear_cache, activation_cache = cache\n",
    "    \n",
    "    if activation == 'relu':\n",
    "        dZ = relu_backwards(dA, activation_cache)\n",
    "    \n",
    "    elif activation == 'sigmoid':\n",
    "        dZ = sigmoid_backwards(dA, activation_cache)\n",
    "        \n",
    "    dA_prev, dW, db = linear_backward(dZ, linear_cache)"
   ]
  },
  {
   "cell_type": "code",
   "execution_count": 27,
   "metadata": {},
   "outputs": [],
   "source": [
    "def L_model_backward(AL, Y, caches):\n",
    "    \n",
    "    L = len(caches)\n",
    "    grads = dict()\n",
    "    Y = Y.reshape(AL.shape)\n",
    "    \n",
    "    dAL = - np.divide(Y, AL) + np.divide(1-Y, 1-AL)\n",
    "    \n",
    "    current_cache = caches[L-1]\n",
    "    grads[\"dA\" + str(L-1)], grads[\"dW\" + str(L)], grads[\"db\" + str(L)] = linear_activation_backward(dAL, current_cache, 'sigmoid')\n",
    "    \n",
    "    for i in reversed(range(L-1)):\n",
    "        current_cache = caches[i]\n",
    "        grads[\"dA\" + str(i)], grads[\"dW\" + str(i+1)], grads[\"db\" + str(i+1)] = lineear_activation_backward(grads[\"dA\"+str(i+1)], current_cache, 'relu')\n",
    "        \n",
    "        \n",
    "    return grads"
   ]
  },
  {
   "cell_type": "code",
   "execution_count": null,
   "metadata": {},
   "outputs": [],
   "source": []
  },
  {
   "cell_type": "code",
   "execution_count": null,
   "metadata": {},
   "outputs": [],
   "source": []
  },
  {
   "cell_type": "code",
   "execution_count": 26,
   "metadata": {},
   "outputs": [],
   "source": [
    "def update_params(parameters, grads, learning_rate):\n",
    "    L = len(parameters)//2\n",
    "    \n",
    "    for i in range(L):\n",
    "        parameters[\"W\"+str(i)] = parameters[\"W\"+str(i)] - (learning_rate * grads[\"dW\"+str(i)])\n",
    "        parameters[\"b\"+str(i)] = parameters[\"b\"+str(i)] - (learning_rate * grads[\"db\"+str(i)])\n",
    "        \n",
    "    return parameters"
   ]
  },
  {
   "cell_type": "code",
   "execution_count": null,
   "metadata": {},
   "outputs": [],
   "source": []
  },
  {
   "cell_type": "code",
   "execution_count": null,
   "metadata": {},
   "outputs": [],
   "source": []
  },
  {
   "cell_type": "code",
   "execution_count": 28,
   "metadata": {},
   "outputs": [],
   "source": [
    "def model(X, Y, dims, num_iterations=1000, learning_rate=0.01):\n",
    "    parameters = initialize_params(dims)\n",
    "    costs = []\n",
    "    for i in range(num_iterations):\n",
    "        AL, caches = L_model_forward(X, parameters)\n",
    "        cost = compute_cost(AL, Y)\n",
    "        grads = L_model_backward(AL, Y, caches)\n",
    "        parameters = update_params(parameters, grads, learning_rate)\n",
    "        \n",
    "        if i % 100 == 0:\n",
    "            print (\"Cost after iteration %i: %f\" %(i, cost))\n",
    "            costs.append(cost)"
   ]
  },
  {
   "cell_type": "code",
   "execution_count": null,
   "metadata": {},
   "outputs": [],
   "source": []
  },
  {
   "cell_type": "code",
   "execution_count": null,
   "metadata": {},
   "outputs": [],
   "source": []
  }
 ],
 "metadata": {
  "kernelspec": {
   "display_name": "Python 3",
   "language": "python",
   "name": "python3"
  },
  "language_info": {
   "codemirror_mode": {
    "name": "ipython",
    "version": 3
   },
   "file_extension": ".py",
   "mimetype": "text/x-python",
   "name": "python",
   "nbconvert_exporter": "python",
   "pygments_lexer": "ipython3",
   "version": "3.6.5"
  }
 },
 "nbformat": 4,
 "nbformat_minor": 2
}
