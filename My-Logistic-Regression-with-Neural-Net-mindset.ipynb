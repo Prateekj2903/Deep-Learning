{
 "cells": [
  {
   "cell_type": "code",
   "execution_count": 16,
   "metadata": {},
   "outputs": [],
   "source": [
    "import numpy as np\n",
    "from lr_utils import load_dataset\n",
    "import matplotlib.pyplot as plt"
   ]
  },
  {
   "cell_type": "code",
   "execution_count": 17,
   "metadata": {},
   "outputs": [],
   "source": [
    "# Loading the data (cat/non-cat)\n",
    "train_set_x_orig, train_set_y, test_set_x_orig, test_set_y, classes = load_dataset()"
   ]
  },
  {
   "cell_type": "code",
   "execution_count": 18,
   "metadata": {},
   "outputs": [],
   "source": [
    "train_set_x_flatten = train_set_x_orig.reshape(train_set_x_orig.shape[0], -1).T\n",
    "test_set_x_flatten = test_set_x_orig.reshape(test_set_x_orig.shape[0], -1).T"
   ]
  },
  {
   "cell_type": "code",
   "execution_count": 19,
   "metadata": {
    "collapsed": true
   },
   "outputs": [],
   "source": [
    "train_set_x = train_set_x_flatten/255.\n",
    "test_set_x = test_set_x_flatten/255."
   ]
  },
  {
   "cell_type": "code",
   "execution_count": 20,
   "metadata": {
    "collapsed": true
   },
   "outputs": [],
   "source": [
    "def initialize_params(dim):\n",
    "    w = np.zeros((dim, 1))\n",
    "    b = 0\n",
    "    return w, b\n",
    "\n",
    "def sigmoid(Z):\n",
    "    return 1 / (1 + np.exp(-Z))\n",
    "\n",
    "def forward_prop(X, w, b):\n",
    "    Z = np.dot(w.T, X) + b\n",
    "    A = sigmoid(Z)\n",
    "    return A\n",
    "\n",
    "def backward_prop(A, Xtrain, Ytrain):\n",
    "    m = Xtrain.shape[1]\n",
    "    dZ = A - Ytrain\n",
    "    dw = 1/m * np.dot(Xtrain, dZ.T)\n",
    "    db = 1/m * np.sum(dZ)\n",
    "    \n",
    "    return dw, db\n",
    "\n",
    "def optimize(Xtrain, Ytrain, w, b, num_iterations, learning_rate):\n",
    "    m = Xtrain.shape[1]\n",
    "    costs = []\n",
    "    for i in range(num_iterations):\n",
    "        A = forward_prop(Xtrain, w, b)\n",
    "        dw, db = backward_prop(A, Xtrain, Ytrain)\n",
    "        \n",
    "        w = w - (learning_rate * dw)\n",
    "        b = b - (learning_rate * db)\n",
    "        \n",
    "        costs.append(np.sum(-1/m * ((Ytrain*np.log(A)) + ((1-Ytrain)*np.log(1-A)))))\n",
    "        \n",
    "        if (i) % 100 == 0:\n",
    "            cost = np.sum(-1/m * ((Ytrain*np.log(A)) + ((1-Ytrain)*np.log(1-A))))\n",
    "            print(\"Iteration: {}    Cost: {}\".format(i, cost))\n",
    "    return w, b, costs    \n",
    "\n",
    "def predict(w, b, X):\n",
    "    \n",
    "    m = X.shape[1]\n",
    "    Y_prediction = np.zeros((1,m))\n",
    "    w = w.reshape(X.shape[0], 1)\n",
    "    \n",
    "    Z = np.dot(w.T, X) + b\n",
    "    A = sigmoid(Z)\n",
    "    \n",
    "    for i in range(A.shape[1]):\n",
    "\n",
    "        if A[0][i] <= 0.5:\n",
    "            pass\n",
    "        else:\n",
    "            Y_prediction[0][i] = 1\n",
    "    return Y_prediction"
   ]
  },
  {
   "cell_type": "code",
   "execution_count": 21,
   "metadata": {
    "collapsed": true
   },
   "outputs": [],
   "source": [
    "def model(Xtrain, Ytrain, Xtest, Ytest, num_iterations=2000, learning_rate=0.5):\n",
    "    n = Xtrain.shape[0]\n",
    "    w, b = initialize_params(n)\n",
    "    \n",
    "    w, b, costs = optimize(Xtrain, Ytrain, w, b, num_iterations, learning_rate)\n",
    "\n",
    "    Y_prediction_test = predict(w, b, Xtest)\n",
    "    Y_prediction_train = predict(w, b, Xtrain)\n",
    "    \n",
    "    print(\"Train Accuracy: {}\".format(100 - np.mean(np.abs(Y_prediction_train - Ytrain)) * 100))\n",
    "    print(\"Test Accuracy: {}\".format(100 - np.mean(np.abs(Y_prediction_test - Ytest)) * 100))\n",
    "    \n",
    "    return costs"
   ]
  },
  {
   "cell_type": "code",
   "execution_count": 22,
   "metadata": {},
   "outputs": [
    {
     "name": "stdout",
     "output_type": "stream",
     "text": [
      "Iteration: 0    Cost: 0.6931471805599452\n",
      "Iteration: 100    Cost: 0.5845083636993087\n",
      "Iteration: 200    Cost: 0.46694904094655465\n",
      "Iteration: 300    Cost: 0.37600686694802077\n",
      "Iteration: 400    Cost: 0.3314632893282512\n",
      "Iteration: 500    Cost: 0.3032730674743829\n",
      "Iteration: 600    Cost: 0.2798795865826048\n",
      "Iteration: 700    Cost: 0.2600421369258757\n",
      "Iteration: 800    Cost: 0.24294068467796617\n",
      "Iteration: 900    Cost: 0.22800422256726072\n",
      "Iteration: 1000    Cost: 0.21481951378449643\n",
      "Iteration: 1100    Cost: 0.20307819060644994\n",
      "Iteration: 1200    Cost: 0.19254427716706854\n",
      "Iteration: 1300    Cost: 0.1830333379688351\n",
      "Iteration: 1400    Cost: 0.1743985943844888\n",
      "Iteration: 1500    Cost: 0.16652139705400332\n",
      "Iteration: 1600    Cost: 0.15930451829756614\n",
      "Iteration: 1700    Cost: 0.15266732471296512\n",
      "Iteration: 1800    Cost: 0.14654223503982333\n",
      "Iteration: 1900    Cost: 0.14087207570310162\n",
      "Train Accuracy: 99.04306220095694\n",
      "Test Accuracy: 70.0\n"
     ]
    }
   ],
   "source": [
    "costs = model(train_set_x, train_set_y, test_set_x, test_set_y, num_iterations = 2000, learning_rate = 0.005)"
   ]
  },
  {
   "cell_type": "code",
   "execution_count": null,
   "metadata": {
    "collapsed": true
   },
   "outputs": [],
   "source": []
  },
  {
   "cell_type": "code",
   "execution_count": 30,
   "metadata": {},
   "outputs": [
    {
     "data": {
      "image/png": "[encoded data removed]",
      "text/plain": [
       "<matplotlib.figure.Figure at 0x2068d286eb8>"
      ]
     },
     "metadata": {},
     "output_type": "display_data"
    }
   ],
   "source": [
    "costs = np.squeeze(costs)\n",
    "plt.plot(costs[:])\n",
    "plt.ylabel('cost')\n",
    "plt.xlabel('iterations')\n",
    "plt.title(\"Learning rate =\" + str(0.005))\n",
    "plt.show()\n",
    "plt.show()"
   ]
  },
  {
   "cell_type": "code",
   "execution_count": null,
   "metadata": {},
   "outputs": [],
   "source": []
  },
  {
   "cell_type": "code",
   "execution_count": null,
   "metadata": {},
   "outputs": [],
   "source": []
  },
  {
   "cell_type": "code",
   "execution_count": 34,
   "metadata": {},
   "outputs": [
    {
     "name": "stdout",
     "output_type": "stream",
     "text": [
      "learning rate is: 0.01\n",
      "Iteration: 0    Cost: 0.6931471805599452\n",
      "Iteration: 100    Cost: 0.8239208681601369\n",
      "Iteration: 200    Cost: 0.41894372058616236\n",
      "Iteration: 300    Cost: 0.6173497063912883\n",
      "Iteration: 400    Cost: 0.522115767197924\n",
      "Iteration: 500    Cost: 0.3877087459646933\n",
      "Iteration: 600    Cost: 0.23625445652290003\n",
      "Iteration: 700    Cost: 0.1542221330562168\n",
      "Iteration: 800    Cost: 0.13532782832654594\n",
      "Iteration: 900    Cost: 0.12497148001124604\n",
      "Iteration: 1000    Cost: 0.11647833126181911\n",
      "Iteration: 1100    Cost: 0.10919251128427582\n",
      "Iteration: 1200    Cost: 0.10280446418273667\n",
      "Iteration: 1300    Cost: 0.09712981007882815\n",
      "Iteration: 1400    Cost: 0.09204326923447784\n",
      "Train Accuracy: 99.52153110047847\n",
      "Test Accuracy: 68.0\n",
      "\n",
      "-------------------------------------------------------\n",
      "\n",
      "learning rate is: 0.001\n",
      "Iteration: 0    Cost: 0.6931471805599452\n",
      "Iteration: 100    Cost: 0.591289426000354\n",
      "Iteration: 200    Cost: 0.5557961107127087\n",
      "Iteration: 300    Cost: 0.5289765131562365\n",
      "Iteration: 400    Cost: 0.5068812917435518\n",
      "Iteration: 500    Cost: 0.4878798632171658\n",
      "Iteration: 600    Cost: 0.4711082780312437\n",
      "Iteration: 700    Cost: 0.4560458096982851\n",
      "Iteration: 800    Cost: 0.442350227933653\n",
      "Iteration: 900    Cost: 0.42978171535077836\n",
      "Iteration: 1000    Cost: 0.41816382093643284\n",
      "Iteration: 1100    Cost: 0.40736174995821905\n",
      "Iteration: 1200    Cost: 0.3972694687269799\n",
      "Iteration: 1300    Cost: 0.38780160722954093\n",
      "Iteration: 1400    Cost: 0.37888813035939584\n",
      "Train Accuracy: 88.99521531100478\n",
      "Test Accuracy: 64.0\n",
      "\n",
      "-------------------------------------------------------\n",
      "\n",
      "learning rate is: 0.0001\n",
      "Iteration: 0    Cost: 0.6931471805599452\n",
      "Iteration: 100    Cost: 0.6436767556935213\n",
      "Iteration: 200    Cost: 0.6357371814059836\n",
      "Iteration: 300    Cost: 0.6285720456492652\n",
      "Iteration: 400    Cost: 0.6220395010251998\n",
      "Iteration: 500    Cost: 0.6160293786905876\n",
      "Iteration: 600    Cost: 0.6104550830063585\n",
      "Iteration: 700    Cost: 0.6052481726085716\n",
      "Iteration: 800    Cost: 0.6003541917337945\n",
      "Iteration: 900    Cost: 0.5957294843812226\n",
      "Iteration: 1000    Cost: 0.5913387663913114\n",
      "Iteration: 1100    Cost: 0.5871532754554302\n",
      "Iteration: 1200    Cost: 0.5831493591357293\n",
      "Iteration: 1300    Cost: 0.5793073939793076\n",
      "Iteration: 1400    Cost: 0.5756109548449315\n",
      "Train Accuracy: 68.42105263157895\n",
      "Test Accuracy: 36.0\n",
      "\n",
      "-------------------------------------------------------\n",
      "\n"
     ]
    },
    {
     "data": {
      "image/png": "[encoded data removed]",
      "text/plain": [
       "<matplotlib.figure.Figure at 0x20689ccd198>"
      ]
     },
     "metadata": {},
     "output_type": "display_data"
    }
   ],
   "source": [
    "learning_rates = [0.01, 0.001, 0.0001]\n",
    "models = {}\n",
    "for i in learning_rates:\n",
    "    print (\"learning rate is: \" + str(i))\n",
    "    costs = model(train_set_x, train_set_y, test_set_x, test_set_y, num_iterations = 1500, learning_rate = i)\n",
    "    print ('\\n' + \"-------------------------------------------------------\" + '\\n')\n",
    "\n",
    "# for i in learning_rates:\n",
    "    plt.plot(np.squeeze(costs), label= str(i))\n",
    "\n",
    "plt.ylabel('cost')\n",
    "plt.xlabel('iterations (hundreds)')\n",
    "\n",
    "legend = plt.legend(loc='upper center', shadow=True)\n",
    "frame = legend.get_frame()\n",
    "frame.set_facecolor('0.90')\n",
    "plt.show()"
   ]
  },
  {
   "cell_type": "code",
   "execution_count": null,
   "metadata": {
    "collapsed": true
   },
   "outputs": [],
   "source": []
  },
  {
   "cell_type": "code",
   "execution_count": null,
   "metadata": {
    "collapsed": true
   },
   "outputs": [],
   "source": []
  },
  {
   "cell_type": "code",
   "execution_count": null,
   "metadata": {
    "collapsed": true
   },
   "outputs": [],
   "source": []
  },
  {
   "cell_type": "code",
   "execution_count": null,
   "metadata": {
    "collapsed": true
   },
   "outputs": [],
   "source": []
  }
 ],
 "metadata": {
  "kernelspec": {
   "display_name": "Python 3",
   "language": "python",
   "name": "python3"
  },
  "language_info": {
   "codemirror_mode": {
    "name": "ipython",
    "version": 3
   },
   "file_extension": ".py",
   "mimetype": "text/x-python",
   "name": "python",
   "nbconvert_exporter": "python",
   "pygments_lexer": "ipython3",
   "version": "3.6.1"
  }
 },
 "nbformat": 4,
 "nbformat_minor": 2
}
